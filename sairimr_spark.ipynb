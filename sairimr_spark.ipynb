{
 "cells": [
  {
   "cell_type": "code",
   "execution_count": 5,
   "id": "e39d5006-68d2-4eff-aa65-b3eff9666807",
   "metadata": {},
   "outputs": [
    {
     "name": "stdout",
     "output_type": "stream",
     "text": [
      "3.5.5\n"
     ]
    }
   ],
   "source": [
    "import findspark\n",
    "findspark.init()\n",
    "import pyspark\n",
    "from pyspark.sql import SparkSession\n",
    "\n",
    "spark = SparkSession.builder.appName(\"WeatherAnalysis\").getOrCreate()\n",
    "print(spark.version)\n"
   ]
  },
  {
   "cell_type": "code",
   "execution_count": 33,
   "id": "bbcfc0b8-fb57-4905-91fc-f3540981f80e",
   "metadata": {
    "scrolled": true
   },
   "outputs": [
    {
     "name": "stdout",
     "output_type": "stream",
     "text": [
      "Contents of /Users/murali/Desktop/WeatherData/2015:\n",
      "- .DS_Store\n",
      "- 99495199999.csv\n",
      "- 72429793812.csv\n",
      "Contents of /Users/murali/Desktop/WeatherData/2016:\n",
      "- .DS_Store\n",
      "- 72429793812.csv\n",
      "File not found: /Users/murali/Desktop/WeatherData/2016/99495199999.csv\n",
      "Contents of /Users/murali/Desktop/WeatherData/2017:\n",
      "- .DS_Store\n",
      "- 99495199999.csv\n",
      "- 72429793812.csv\n",
      "Contents of /Users/murali/Desktop/WeatherData/2018:\n",
      "- .DS_Store\n",
      "- 99495199999.csv\n",
      "- 72429793812.csv\n",
      "Contents of /Users/murali/Desktop/WeatherData/2019:\n",
      "- .DS_Store\n",
      "- 99495199999.csv\n",
      "- 72429793812.csv\n",
      "Contents of /Users/murali/Desktop/WeatherData/2020:\n",
      "- .DS_Store\n",
      "- 99495199999.csv\n",
      "- 72429793812.csv\n",
      "Contents of /Users/murali/Desktop/WeatherData/2021:\n",
      "- .DS_Store\n",
      "- 99495199999.csv\n",
      "- 72429793812.csv\n",
      "Contents of /Users/murali/Desktop/WeatherData/2022:\n",
      "- .DS_Store\n",
      "- 99495199999.csv\n",
      "- 72429793812.csv\n",
      "Contents of /Users/murali/Desktop/WeatherData/2023:\n",
      "- .DS_Store\n",
      "- 99495199999.csv\n",
      "- 72429793812.csv\n",
      "Contents of /Users/murali/Desktop/WeatherData/2024:\n",
      "- 99495199999.csv\n",
      "- 72429793812.csv\n",
      "+-----------+-----+\n",
      "|    STATION|count|\n",
      "+-----------+-----+\n",
      "|72429793812| 3653|\n",
      "|99495199999| 2483|\n",
      "+-----------+-----+\n",
      "\n"
     ]
    }
   ],
   "source": [
    "import os\n",
    "import pyspark\n",
    "from pyspark.sql import SparkSession\n",
    "from pyspark.sql.functions import col, year\n",
    "\n",
    "spark = SparkSession.builder \\\n",
    "    .appName(\"Weather Data Analysis\") \\\n",
    "    .getOrCreate()\n",
    "\n",
    "base_path = r'/Users/murali/Desktop/WeatherData'\n",
    "years = range(2015, 2025)\n",
    "station_codes = ['72429793812', '99495199999']\n",
    "dataframes = []\n",
    "\n",
    "for year_folder in years:\n",
    "    year_folder_path = os.path.join(base_path, str(year_folder))\n",
    "    \n",
    "    print(f\"Contents of {year_folder_path}:\")\n",
    "    if os.path.isdir(year_folder_path):\n",
    "        for filename in os.listdir(year_folder_path):\n",
    "            print(f\"- {filename}\")\n",
    "    else:\n",
    "        print(f\"Directory does not exist: {year_folder_path}\")\n",
    "    \n",
    "    for station_code in station_codes:\n",
    "        file_path = os.path.join(year_folder_path, f'{station_code}.csv')\n",
    "        \n",
    "        if os.path.isfile(file_path):\n",
    "            df = spark.read.csv(file_path, header=True, inferSchema=True)\n",
    "            df = df.withColumn(\"YEAR\", year(col(\"DATE\")))\n",
    "            df = df.withColumn(\"STATION\", col(\"STATION\").cast(\"string\"))\n",
    "            dataframes.append(df)\n",
    "        else:\n",
    "            print(f\"File not found: {file_path}\")\n",
    "\n",
    "if dataframes:\n",
    "    full_df = dataframes[0]\n",
    "    for df in dataframes[1:]:\n",
    "        full_df = full_df.union(df)\n",
    "    \n",
    "    count_per_dataset = full_df.groupBy(\"STATION\").count()\n",
    "    count_per_dataset.show()\n",
    "else:\n",
    "    print(\"No data files were loaded. Please check your file paths.\")\n"
   ]
  },
  {
   "cell_type": "code",
   "execution_count": 35,
   "id": "98018ebf-a8b3-4d26-9eb3-fc7450526dc5",
   "metadata": {},
   "outputs": [
    {
     "name": "stdout",
     "output_type": "stream",
     "text": [
      "+-----------+--------------------+----------+------+\n",
      "|    STATION|                NAME|      DATE|   MAX|\n",
      "+-----------+--------------------+----------+------+\n",
      "|72429793812|CINCINNATI MUNICI...|2015-06-12|  91.9|\n",
      "|72429793812|CINCINNATI MUNICI...|2015-06-13|  91.9|\n",
      "|72429793812|CINCINNATI MUNICI...|2015-07-18|  91.9|\n",
      "|72429793812|CINCINNATI MUNICI...|2015-07-19|  91.9|\n",
      "|72429793812|CINCINNATI MUNICI...|2015-07-28|  91.9|\n",
      "|72429793812|CINCINNATI MUNICI...|2015-07-29|  91.9|\n",
      "|72429793812|CINCINNATI MUNICI...|2015-07-30|  91.9|\n",
      "|72429793812|CINCINNATI MUNICI...|2015-09-03|  91.9|\n",
      "|72429793812|CINCINNATI MUNICI...|2015-09-04|  91.9|\n",
      "|72429793812|CINCINNATI MUNICI...|2015-09-05|  91.9|\n",
      "|72429793812|CINCINNATI MUNICI...|2016-07-24|  93.9|\n",
      "|72429793812|CINCINNATI MUNICI...|2016-07-25|  93.9|\n",
      "|72429793812|CINCINNATI MUNICI...|2016-07-26|  93.9|\n",
      "|99495199999|SEBASTIAN INLET S...|2017-02-22|9999.9|\n",
      "|72429793812|CINCINNATI MUNICI...|2018-07-04|  96.1|\n",
      "|72429793812|CINCINNATI MUNICI...|2018-07-05|  96.1|\n",
      "|72429793812|CINCINNATI MUNICI...|2019-09-30|  95.0|\n",
      "|72429793812|CINCINNATI MUNICI...|2019-10-01|  95.0|\n",
      "|72429793812|CINCINNATI MUNICI...|2019-10-02|  95.0|\n",
      "|72429793812|CINCINNATI MUNICI...|2019-10-03|  95.0|\n",
      "+-----------+--------------------+----------+------+\n",
      "only showing top 20 rows\n",
      "\n"
     ]
    }
   ],
   "source": [
    "from pyspark.sql.functions import max\n",
    "\n",
    "hottest_day_per_year = full_df.groupBy(\"YEAR\").agg(\n",
    "    max(\"MAX\").alias(\"Hottest_Temperature\")\n",
    ")\n",
    "\n",
    "hottest_day_per_year = full_df.join(hottest_day_per_year, \n",
    "                                    (full_df[\"YEAR\"] == hottest_day_per_year[\"YEAR\"]) &\n",
    "                                    (full_df[\"MAX\"] == hottest_day_per_year[\"Hottest_Temperature\"]))\n",
    "hottest_day_per_year.select(\"STATION\", \"NAME\", \"DATE\", \"MAX\").show()\n"
   ]
  },
  {
   "cell_type": "code",
   "execution_count": 37,
   "id": "0fbbafbc-4794-4df2-bb33-ab3cafdb1409",
   "metadata": {},
   "outputs": [
    {
     "name": "stdout",
     "output_type": "stream",
     "text": [
      "+-----------+--------------------+----------+---+\n",
      "|    STATION|                NAME|      DATE|MIN|\n",
      "+-----------+--------------------+----------+---+\n",
      "|72429793812|CINCINNATI MUNICI...|2015-03-06|3.2|\n",
      "+-----------+--------------------+----------+---+\n",
      "only showing top 1 row\n",
      "\n"
     ]
    }
   ],
   "source": [
    "from pyspark.sql.functions import month, min\n",
    "\n",
    "coldest_march_day = full_df.filter(month(col(\"DATE\")) == 3).groupBy(\"YEAR\").agg(\n",
    "    min(\"MIN\").alias(\"Coldest_Temperature\")\n",
    ")\n",
    "\n",
    "coldest_march_day = full_df.join(coldest_march_day, \n",
    "                                 (full_df[\"YEAR\"] == coldest_march_day[\"YEAR\"]) &\n",
    "                                 (full_df[\"MIN\"] == coldest_march_day[\"Coldest_Temperature\"]))\n",
    "coldest_march_day.select(\"STATION\", \"NAME\", \"DATE\", \"MIN\").show(1)\n"
   ]
  },
  {
   "cell_type": "code",
   "execution_count": 24,
   "id": "6e703e5a-546b-4c2e-a11f-31f39458ba0c",
   "metadata": {},
   "outputs": [
    {
     "name": "stdout",
     "output_type": "stream",
     "text": [
      "+-----------+----+-------------------+\n",
      "|    STATION|YEAR|       Mean_of_PRCP|\n",
      "+-----------+----+-------------------+\n",
      "|72429793812|2015|0.13178082191780816|\n",
      "|99495199999|2015|                0.0|\n",
      "+-----------+----+-------------------+\n",
      "only showing top 2 rows\n",
      "\n"
     ]
    }
   ],
   "source": [
    "precipitation_data = full_df.filter(full_df[\"STATION\"].isin([\"72429793812\", \"99495199999\"]))\n",
    "\n",
    "precipitation_per_year = precipitation_data.groupBy(\"STATION\", \"YEAR\").agg(\n",
    "    {\"PRCP\": \"mean\"}\n",
    ").withColumnRenamed(\"avg(PRCP)\", \"Mean_of_PRCP\")\n",
    "\n",
    "precipitation_per_year.show(2)\n",
    "\n"
   ]
  },
  {
   "cell_type": "code",
   "execution_count": 26,
   "id": "f86bac95-29d4-4eb7-9d7c-11d3826afe10",
   "metadata": {},
   "outputs": [
    {
     "name": "stdout",
     "output_type": "stream",
     "text": [
      "Cincinnati - Gust missing percentage: 0.0%\n",
      "Florida - Gust missing percentage: 0.0%\n"
     ]
    }
   ],
   "source": [
    "gust_data_2024 = full_df.filter(full_df[\"YEAR\"] == 2024).filter(\n",
    "    full_df[\"STATION\"].isin([\"72429793812\", \"99495199999\"])\n",
    ")\n",
    "\n",
    "gust_missing_cincinnati = gust_data_2024.filter(gust_data_2024[\"GUST\"].isNull()).filter(gust_data_2024[\"STATION\"] == \"72429793812\").count()\n",
    "gust_missing_florida = gust_data_2024.filter(gust_data_2024[\"GUST\"].isNull()).filter(gust_data_2024[\"STATION\"] == \"99495199999\").count()\n",
    "\n",
    "total_gust_cincinnati = gust_data_2024.filter(gust_data_2024[\"STATION\"] == \"72429793812\").count()\n",
    "total_gust_florida = gust_data_2024.filter(gust_data_2024[\"STATION\"] == \"99495199999\").count()\n",
    "\n",
    "gust_percentage_missing_cincinnati = (gust_missing_cincinnati / total_gust_cincinnati) * 100\n",
    "gust_percentage_missing_florida = (gust_missing_florida / total_gust_florida) * 100\n",
    "\n",
    "print(f\"Cincinnati - Gust missing percentage: {gust_percentage_missing_cincinnati}%\")\n",
    "print(f\"Florida - Gust missing percentage: {gust_percentage_missing_florida}%\")\n"
   ]
  },
  {
   "cell_type": "code",
   "execution_count": 43,
   "id": "3acab6e5-ca82-4211-bde0-e8766d6775a4",
   "metadata": {},
   "outputs": [
    {
     "name": "stdout",
     "output_type": "stream",
     "text": [
      "+-----+------------------+-----------------+------------------+\n",
      "|Month|  Mean_Temperature|  STD_Temperature|Median_Temperature|\n",
      "+-----+------------------+-----------------+------------------+\n",
      "|   12| 35.99354838709677|6.642787340861814|              35.2|\n",
      "|    1| 37.94516129032259|8.345810873712928|              37.7|\n",
      "|    6| 72.54666666666667|4.899946047087439|              73.7|\n",
      "|    3|  49.0741935483871|8.779406500135623|              47.8|\n",
      "|    5| 60.89032258064518|9.314768017820217|              63.7|\n",
      "|    9|              66.1|7.118262089331474|              65.8|\n",
      "|    4|51.779999999999994|7.313162436838541|              51.0|\n",
      "|    8| 73.34516129032258|3.487868375734898|              73.7|\n",
      "|    7|              77.6| 2.33794781806609|              77.9|\n",
      "|   10|55.193548387096776| 6.72869157582517|              54.0|\n",
      "|   11|48.003333333333345|6.825938527529321|              47.7|\n",
      "|    2|  36.5896551724138| 7.90159770587055|              36.0|\n",
      "+-----+------------------+-----------------+------------------+\n",
      "\n"
     ]
    }
   ],
   "source": [
    "from pyspark.sql.functions import month, avg, stddev, percentile_approx\n",
    "\n",
    "cincinnati_data_2020 = full_df.filter(\n",
    "    (full_df[\"STATION\"] == \"72429793812\") & (full_df[\"YEAR\"] == 2020)\n",
    ")\n",
    "\n",
    "monthly_stats = cincinnati_data_2020.groupBy(month(\"DATE\").alias(\"Month\")).agg(\n",
    "    avg(\"TEMP\").alias(\"Mean_Temperature\"),\n",
    "    stddev(\"TEMP\").alias(\"STD_Temperature\"),\n",
    "    percentile_approx(\"TEMP\", 0.5).alias(\"Median_Temperature\")\n",
    ")\n",
    "\n",
    "monthly_stats.show(12)\n"
   ]
  },
  {
   "cell_type": "code",
   "execution_count": 45,
   "id": "bb71885f-847a-4c85-b508-02461d168d39",
   "metadata": {},
   "outputs": [
    {
     "name": "stderr",
     "output_type": "stream",
     "text": [
      "25/03/23 20:30:20 WARN SparkStringUtils: Truncated the string representation of a plan since it was too large. This behavior can be adjusted by setting 'spark.sql.debug.maxToStringFields'.\n"
     ]
    },
    {
     "name": "stdout",
     "output_type": "stream",
     "text": [
      "+-----------+----------+--------+---------+---------+--------------------+----+---------------+----+---------------+------+--------------+-----+--------------+-----+----------------+----+---------------+-----+-----+----+--------------+----+--------------+----+---------------+-----+------+----+-----------+\n",
      "|    STATION|      DATE|LATITUDE|LONGITUDE|ELEVATION|                NAME|TEMP|TEMP_ATTRIBUTES|DEWP|DEWP_ATTRIBUTES|   SLP|SLP_ATTRIBUTES|  STP|STP_ATTRIBUTES|VISIB|VISIB_ATTRIBUTES|WDSP|WDSP_ATTRIBUTES|MXSPD| GUST| MAX|MAX_ATTRIBUTES| MIN|MIN_ATTRIBUTES|PRCP|PRCP_ATTRIBUTES| SNDP|FRSHTT|YEAR| Wind_Chill|\n",
      "+-----------+----------+--------+---------+---------+--------------------+----+---------------+----+---------------+------+--------------+-----+--------------+-----+----------------+----+---------------+-----+-----+----+--------------+----+--------------+----+---------------+-----+------+----+-----------+\n",
      "|72429793812|2017-01-07|  39.106|-84.41609|    144.8|CINCINNATI MUNICI...|10.5|           24.0| 0.4|           24.0|1033.5|          24.0| 14.3|          24.0| 10.0|            24.0| 7.0|           24.0| 11.1|999.9|16.0|              | 6.1|              | 0.0|              G|999.9|     0|2017|-0.41401565|\n",
      "|72429793812|2017-12-31|  39.106|-84.41609|    144.8|CINCINNATI MUNICI...|11.0|           24.0| 2.3|           24.0|1032.4|          22.0| 13.4|          24.0|  9.6|            24.0| 5.3|           24.0|  9.9|999.9|24.1|              | 6.1|              | 0.0|              G|999.9|  1000|2017|  2.0339768|\n",
      "|72429793812|2017-12-27|  39.106|-84.41609|    144.8|CINCINNATI MUNICI...|13.0|           24.0| 1.1|           24.0|1039.3|          23.0| 19.9|          24.0|  9.5|            24.0| 5.8|           24.0|  9.9|999.9|26.1|              | 5.0|              | 0.0|              G|999.9|  1000|2017|  3.8206456|\n",
      "|72429793812|2017-12-28|  39.106|-84.41609|    144.8|CINCINNATI MUNICI...|13.6|           24.0| 2.3|           24.0|1038.8|          24.0| 19.4|          24.0| 10.0|            24.0| 5.8|           24.0|  8.9|999.9|21.9|              | 5.0|              | 0.0|              G|999.9|     0|2017|   4.533355|\n",
      "|72429793812|2017-01-06|  39.106|-84.41609|    144.8|CINCINNATI MUNICI...|13.6|           24.0| 4.9|           24.0|1024.6|          21.0|  5.3|          24.0| 10.0|            24.0| 5.5|           24.0|  9.9| 15.9|24.1|              |10.0|              |0.03|              G|999.9|     0|2017|   4.868933|\n",
      "|72429793812|2017-01-08|  39.106|-84.41609|    144.8|CINCINNATI MUNICI...|15.9|           24.0| 5.8|           24.0|1039.8|          24.0| 20.6|          24.0|  9.8|            24.0| 5.2|           24.0|  8.9|999.9|23.0|              | 6.1|              | 0.0|              G|999.9|  1000|2017|   7.929748|\n",
      "|72429793812|2017-12-25|  39.106|-84.41609|    144.8|CINCINNATI MUNICI...|25.8|           24.0|14.8|           24.0|1026.6|          19.0|  6.4|          24.0|  9.2|            24.0|13.5|           24.0| 22.0| 32.1|34.0|             *|21.9|             *|0.06|              G|999.9|  1000|2017|  14.285113|\n",
      "|72429793812|2017-12-30|  39.106|-84.41609|    144.8|CINCINNATI MUNICI...|21.6|           24.0|16.1|           24.0|1024.3|          17.0|  5.4|          24.0|  6.8|            24.0| 5.3|           24.0| 12.0| 20.0|28.9|              |12.0|              |0.07|              G|999.9|  1000|2017|  14.539211|\n",
      "|72429793812|2017-01-05|  39.106|-84.41609|    144.8|CINCINNATI MUNICI...|22.2|           24.0|15.7|           24.0|1018.4|          16.0|999.7|          24.0|  6.1|            24.0| 5.8|           24.0| 11.1| 15.9|25.0|             *|19.9|             *| 0.0|              G|999.9|  1000|2017|  14.748862|\n",
      "|72429793812|2017-12-26|  39.106|-84.41609|    144.8|CINCINNATI MUNICI...|23.3|           24.0|10.4|           24.0|1033.8|          24.0| 14.9|          24.0|  9.8|            24.0| 6.2|           24.0|  8.9|999.9|28.9|              |19.9|              | 0.0|              G|999.9|  1000|2017|  15.688978|\n",
      "+-----------+----------+--------+---------+---------+--------------------+----+---------------+----+---------------+------+--------------+-----+--------------+-----+----------------+----+---------------+-----+-----+----+--------------+----+--------------+----+---------------+-----+------+----+-----------+\n",
      "only showing top 10 rows\n",
      "\n"
     ]
    },
    {
     "name": "stderr",
     "output_type": "stream",
     "text": [
      "                                                                                \r"
     ]
    }
   ],
   "source": [
    "import pyspark.sql.functions as F\n",
    "\n",
    "def calculate_wind_chill(temp, wind_speed):\n",
    "    return 35.74 + 0.6215 * temp - 35.75 * (wind_speed**0.16) + 0.4275 * temp * (wind_speed**0.16)\n",
    "\n",
    "wc_udf = F.udf(calculate_wind_chill, pyspark.sql.types.FloatType())\n",
    "\n",
    "cincinnati_2017 = full_df.filter(\n",
    "    (full_df[\"STATION\"] == \"72429793812\") & (full_df[\"YEAR\"] == 2017)\n",
    ")\n",
    "\n",
    "cincinnati_2017 = cincinnati_2017.filter(\n",
    "    (cincinnati_2017[\"TEMP\"] < 50) & (cincinnati_2017[\"WDSP\"] > 3)\n",
    ")\n",
    "\n",
    "cincinnati_2017 = cincinnati_2017.withColumn(\"Wind_Chill\", wc_udf(cincinnati_2017[\"TEMP\"], cincinnati_2017[\"WDSP\"]))\n",
    "cincinnati_2017.orderBy(\"Wind_Chill\").show(10)\n"
   ]
  },
  {
   "cell_type": "code",
   "execution_count": 47,
   "id": "01478ce2-c9cd-4fa4-9161-419bd185a403",
   "metadata": {},
   "outputs": [
    {
     "name": "stdout",
     "output_type": "stream",
     "text": [
      "Number of days with extreme weather conditions: 0\n"
     ]
    }
   ],
   "source": [
    "florida_data = full_df.filter(full_df[\"STATION\"] == \"99495199999\")\n",
    "\n",
    "extreme_weather_days = florida_data.filter(\n",
    "    florida_data[\"FRSHTT\"].isin([\"1\", \"2\", \"3\", \"4\", \"5\"])\n",
    ")\n",
    "\n",
    "extreme_weather_days_count = extreme_weather_days.count()\n",
    "print(f\"Number of days with extreme weather conditions: {extreme_weather_days_count}\")\n"
   ]
  },
  {
   "cell_type": "code",
   "execution_count": 49,
   "id": "86da813e-b78b-49c0-9d21-a2cd346e8eaf",
   "metadata": {},
   "outputs": [
    {
     "name": "stderr",
     "output_type": "stream",
     "text": [
      "25/03/23 20:30:48 WARN Instrumentation: [ef407440] regParam is zero, which might cause numerical instability and overfitting.\n",
      "25/03/23 20:30:48 WARN InstanceBuilder: Failed to load implementation from:dev.ludovic.netlib.blas.JNIBLAS\n",
      "25/03/23 20:30:48 WARN InstanceBuilder: Failed to load implementation from:dev.ludovic.netlib.lapack.JNILAPACK\n"
     ]
    },
    {
     "name": "stdout",
     "output_type": "stream",
     "text": [
      "+-----------+--------------------+----------+----+-----------------+\n",
      "|    STATION|                NAME|      DATE| MAX|       prediction|\n",
      "+-----------+--------------------+----------+----+-----------------+\n",
      "|72429793812|CINCINNATI MUNICI...|2024-01-01|43.0|44.73304454638277|\n",
      "|72429793812|CINCINNATI MUNICI...|2024-01-02|39.9|51.07019285302319|\n",
      "+-----------+--------------------+----------+----+-----------------+\n",
      "only showing top 2 rows\n",
      "\n"
     ]
    }
   ],
   "source": [
    "from pyspark.ml.regression import LinearRegression\n",
    "from pyspark.ml.feature import VectorAssembler\n",
    "\n",
    "cincinnati_data_2023_2024 = full_df.filter(\n",
    "    (full_df[\"STATION\"] == \"72429793812\") & (full_df[\"YEAR\"].isin([2023, 2024]))\n",
    ")\n",
    "\n",
    "features = [\"TEMP\", \"WDSP\", \"PRCP\", \"GUST\"]\n",
    "assembler = VectorAssembler(inputCols=features, outputCol=\"features\")\n",
    "cincinnati_data_2023_2024 = assembler.transform(cincinnati_data_2023_2024)\n",
    "\n",
    "lr = LinearRegression(featuresCol=\"features\", labelCol=\"MAX\")\n",
    "model = lr.fit(cincinnati_data_2023_2024)\n",
    "\n",
    "# Predict for November and December 2024\n",
    "predictions = model.transform(cincinnati_data_2023_2024.filter(cincinnati_data_2023_2024[\"YEAR\"] == 2024))\n",
    "predictions.select(\"STATION\", \"NAME\", \"DATE\", \"MAX\", \"prediction\").show(2)\n"
   ]
  },
  {
   "cell_type": "code",
   "execution_count": null,
   "id": "c644c6d6-9eef-4ddf-be52-3e3e107e896a",
   "metadata": {},
   "outputs": [],
   "source": []
  }
 ],
 "metadata": {
  "kernelspec": {
   "display_name": "Python 3 (ipykernel)",
   "language": "python",
   "name": "python3"
  },
  "language_info": {
   "codemirror_mode": {
    "name": "ipython",
    "version": 3
   },
   "file_extension": ".py",
   "mimetype": "text/x-python",
   "name": "python",
   "nbconvert_exporter": "python",
   "pygments_lexer": "ipython3",
   "version": "3.12.4"
  }
 },
 "nbformat": 4,
 "nbformat_minor": 5
}
